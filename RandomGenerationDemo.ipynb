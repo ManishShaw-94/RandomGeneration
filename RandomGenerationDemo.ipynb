{
 "cells": [
  {
   "cell_type": "code",
   "execution_count": 21,
   "metadata": {},
   "outputs": [],
   "source": [
    "import pandas as pd\n",
    "import random\n",
    "import names"
   ]
  },
  {
   "cell_type": "code",
   "execution_count": 23,
   "metadata": {},
   "outputs": [],
   "source": [
    "df = pd.DataFrame(columns=['Name','Date','Salary'])"
   ]
  },
  {
   "cell_type": "code",
   "execution_count": 26,
   "metadata": {},
   "outputs": [],
   "source": [
    "for i in range(15):\n",
    "    df.loc[i, ['Name']] = names.get_full_name()\n",
    "    #print(names.get_full_name())"
   ]
  },
  {
   "cell_type": "code",
   "execution_count": 27,
   "metadata": {},
   "outputs": [],
   "source": [
    "from datetime import datetime, timedelta\n",
    "\n",
    "min_year=1900\n",
    "max_year=datetime.now().year\n",
    "\n",
    "start = datetime(min_year, 1, 1, 00, 00, 00)\n",
    "years = max_year - min_year+1\n",
    "end = start + timedelta(days=365 * years)\n",
    "\n",
    "for i in range(15):\n",
    "    random_date = start + (end - start) * random.random()\n",
    "    df.loc[i, ['Date']] = random_date\n",
    "    #print(random_date)"
   ]
  },
  {
   "cell_type": "code",
   "execution_count": 28,
   "metadata": {},
   "outputs": [],
   "source": [
    "from random import randint\n",
    "\n",
    "def random_with_N_digits(n):\n",
    "    range_start = 10**(n-1)\n",
    "    range_end = (10**n)-1\n",
    "    return randint(range_start, range_end)\n",
    "\n",
    "for i in range(15):\n",
    "    df.loc[i, ['Salary']] = random_with_N_digits(6)\n",
    "    #print(random_with_N_digits(6))"
   ]
  },
  {
   "cell_type": "code",
   "execution_count": 29,
   "metadata": {},
   "outputs": [
    {
     "name": "stdout",
     "output_type": "stream",
     "text": [
      "               Name                        Date  Salary\n",
      "0    Clarence Davis  1949-12-05 11:48:29.982631  108293\n",
      "1     Willie Dotson  1983-12-28 16:33:36.425991  657103\n",
      "2     Tammy Carlone  1995-09-10 18:15:19.745108  998479\n",
      "3       John Thomas  1981-05-07 10:14:42.683016  965634\n",
      "4   Francis Roghair  1995-10-02 10:05:50.407159  394622\n",
      "5      Carolyn Kerr  2000-07-25 01:30:30.095863  174169\n",
      "6       Janet Guinn  1950-07-18 19:58:40.943837  764061\n",
      "7     Cheryl Schaal  1956-10-18 16:01:54.247478  595961\n",
      "8   Sharon Williams  1996-05-24 18:10:47.269232  168481\n",
      "9       Tina Mcdade  1900-11-26 16:10:51.272560  347008\n",
      "10      Joshua Sims  1914-08-02 20:20:46.221873  841171\n",
      "11   Courtney Olson  1909-08-31 07:42:46.793359  474219\n",
      "12   Teresa Whitley  1915-04-21 00:35:25.524237  215426\n",
      "13     James Gruber  2012-05-29 02:49:19.531559  847694\n",
      "14     Paul Preston  1908-05-21 14:02:47.611214  918931\n"
     ]
    }
   ],
   "source": [
    "df.to_csv (r'C:\\Users\\Ron\\Desktop\\export_dataframe.csv', index = False, header=True)\n",
    "print(df)"
   ]
  },
  {
   "cell_type": "code",
   "execution_count": null,
   "metadata": {},
   "outputs": [],
   "source": []
  }
 ],
 "metadata": {
  "kernelspec": {
   "display_name": "Python 3",
   "language": "python",
   "name": "python3"
  },
  "language_info": {
   "codemirror_mode": {
    "name": "ipython",
    "version": 3
   },
   "file_extension": ".py",
   "mimetype": "text/x-python",
   "name": "python",
   "nbconvert_exporter": "python",
   "pygments_lexer": "ipython3",
   "version": "3.7.4"
  }
 },
 "nbformat": 4,
 "nbformat_minor": 2
}
